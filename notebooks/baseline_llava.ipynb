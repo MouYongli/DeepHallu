{
 "cells": [
  {
   "cell_type": "code",
   "execution_count": null,
   "metadata": {},
   "outputs": [],
   "source": [
    "import os\n",
    "\n",
    "os.environ[\"HF_HOME\"] = \"/DATA2/HuggingFace\"\n",
    "\n",
    "from transformers import LlavaNextProcessor, LlavaNextForConditionalGeneration\n",
    "import torch\n",
    "from PIL import Image\n",
    "import requests\n",
    "import numpy as np\n"
   ]
  },
  {
   "cell_type": "code",
   "execution_count": null,
   "metadata": {},
   "outputs": [],
   "source": [
    "processor = LlavaNextProcessor.from_pretrained(\"llava-hf/llava-v1.6-mistral-7b-hf\")\n",
    "\n",
    "model = LlavaNextForConditionalGeneration.from_pretrained(\"llava-hf/llava-v1.6-mistral-7b-hf\", torch_dtype=torch.float16, low_cpu_mem_usage=True) \n",
    "model.to(\"cuda:0\")\n",
    "\n",
    "# prepare image and text prompt, using the appropriate prompt template\n",
    "\n",
    "# image_path = \"/home/mou/Projects/DeepHallu/data/examples/image.jpeg\"\n",
    "# image = Image.open(image_path)\n",
    "# question = \"What is shown in this image?\"\n",
    "\n",
    "from datasets import load_dataset\n",
    "llava_bench = load_dataset(\"lmms-lab/llava-bench-in-the-wild\")\n",
    "sample = llava_bench['train'][0]\n",
    "image = sample['image']\n",
    "question = sample['question']\n",
    "print(question)\n",
    "# Define a chat history and use `apply_chat_template` to get correctly formatted prompt\n",
    "# Each value in \"content\" has to be a list of dicts with types (\"text\", \"image\") \n",
    "conversation = [\n",
    "    {\n",
    "\n",
    "      \"role\": \"user\",\n",
    "      \"content\": [\n",
    "          {\"type\": \"text\", \"text\": question},\n",
    "          {\"type\": \"image\"},\n",
    "        ],\n",
    "    },\n",
    "]\n",
    "prompt = processor.apply_chat_template(conversation, add_generation_prompt=True)\n",
    "\n",
    "inputs = processor(images=image, text=prompt, return_tensors=\"pt\").to(\"cuda:0\")\n",
    "# # Explore the inputs\n",
    "# # image size\n",
    "# print(f\"image size: {image.size}\")\n",
    "# # inputs contains:\n",
    "# # - input_ids\n",
    "# # - attention_mask\n",
    "# # - pixel_values\n",
    "# # - image_sizes\n",
    "# for k, v in inputs.items():\n",
    "#     print(k, v.shape)\n",
    "# print(f\"inputs: {inputs['image_sizes']}\")\n",
    "# # Decode and print the input_ids as text for inspection\n",
    "# decoded_input = processor.tokenizer.decode(input_ids, skip_special_tokens=False)\n",
    "# print(\"Decoded input_ids:\\n\", decoded_input)\n",
    "# image_token_id = model.config.image_token_id\n",
    "# input_ids = inputs[\"input_ids\"][0]\n",
    "# image_token_indices = (input_ids == image_token_id).nonzero(as_tuple=True)[0].tolist()\n",
    "# print(\"Indices of image_token_id in input_ids:\", image_token_indices)"
   ]
  },
  {
   "cell_type": "code",
   "execution_count": null,
   "metadata": {},
   "outputs": [],
   "source": [
    "\n",
    "for k, v in inputs.items():\n",
    "    print(k, v.shape)"
   ]
  },
  {
   "cell_type": "code",
   "execution_count": null,
   "metadata": {},
   "outputs": [],
   "source": [
    "print(f\"inputs: {inputs['image_sizes']}\")\n",
    "# print(processor.tokenizer.decode(inputs[\"input_ids\"][0]))\n",
    "print(prompt)"
   ]
  },
  {
   "cell_type": "code",
   "execution_count": null,
   "metadata": {},
   "outputs": [],
   "source": [
    "# autoregressively complete prompt\n",
    "output = model.generate(**inputs, max_new_tokens=100)\n",
    "print(processor.decode(output[0], skip_special_tokens=True))"
   ]
  },
  {
   "cell_type": "code",
   "execution_count": null,
   "metadata": {},
   "outputs": [],
   "source": [
    "\n",
    "for k, v in inputs.items():\n",
    "    print(k, v.shape)\n",
    "image_token_id = model.config.image_token_id\n",
    "input_ids = inputs[\"input_ids\"][0]\n",
    "image_token_indices = (input_ids == image_token_id).nonzero(as_tuple=True)[0].tolist()\n",
    "print(f\"Number of image tokens: {len(image_token_indices)}\")"
   ]
  }
 ],
 "metadata": {
  "kernelspec": {
   "display_name": "deephallu",
   "language": "python",
   "name": "python3"
  },
  "language_info": {
   "codemirror_mode": {
    "name": "ipython",
    "version": 3
   },
   "file_extension": ".py",
   "mimetype": "text/x-python",
   "name": "python",
   "nbconvert_exporter": "python",
   "pygments_lexer": "ipython3",
   "version": "3.12.11"
  }
 },
 "nbformat": 4,
 "nbformat_minor": 2
}
