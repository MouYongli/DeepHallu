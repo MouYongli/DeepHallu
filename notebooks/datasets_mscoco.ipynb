{
 "cells": [
  {
   "cell_type": "code",
   "execution_count": 3,
   "metadata": {},
   "outputs": [],
   "source": [
    "import os\n",
    "import os.path as osp\n",
    "import json\n",
    "\n",
    "dataset_path = \"/home/mou/Projects/DeepHallu/data/mscoco\"\n",
    "dataset_train_path = osp.join(dataset_path, \"train2014\")\n",
    "dataset_val_path = osp.join(dataset_path, \"val2014\")\n",
    "dataset_test_path = osp.join(dataset_path, \"test2015\")"
   ]
  },
  {
   "cell_type": "code",
   "execution_count": 4,
   "metadata": {},
   "outputs": [
    {
     "name": "stdout",
     "output_type": "stream",
     "text": [
      "train images: 82783\n",
      "val images: 40504\n",
      "test images: 81434\n"
     ]
    }
   ],
   "source": [
    "print(\"train images:\", len([f for f in os.listdir(dataset_train_path) if f.endswith(\".jpg\")]))\n",
    "print(\"val images:\", len([f for f in os.listdir(dataset_val_path) if f.endswith(\".jpg\")]))\n",
    "print(\"test images:\", len([f for f in os.listdir(dataset_test_path) if f.endswith(\".jpg\")]))"
   ]
  }
 ],
 "metadata": {
  "kernelspec": {
   "display_name": "deephallu",
   "language": "python",
   "name": "python3"
  },
  "language_info": {
   "codemirror_mode": {
    "name": "ipython",
    "version": 3
   },
   "file_extension": ".py",
   "mimetype": "text/x-python",
   "name": "python",
   "nbconvert_exporter": "python",
   "pygments_lexer": "ipython3",
   "version": "undefined.undefined.undefined"
  }
 },
 "nbformat": 4,
 "nbformat_minor": 2
}
